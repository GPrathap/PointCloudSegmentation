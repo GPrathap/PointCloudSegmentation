{
 "cells": [
  {
   "cell_type": "code",
   "execution_count": 19,
   "metadata": {},
   "outputs": [
    {
     "name": "stdout",
     "output_type": "stream",
     "text": [
      "/home/jovyan/work/boxes_vis/git/obstacle-detection\n"
     ]
    }
   ],
   "source": [
    "%cd .."
   ]
  },
  {
   "cell_type": "code",
   "execution_count": 16,
   "metadata": {},
   "outputs": [],
   "source": [
    "import sys\n",
    "sys.path.append('/home/jovyan/work/boxes_vis/git/obstacle-detection/')\n",
    "sys.path.append('/home/jovyan/work/obstacle-detection/model/')"
   ]
  },
  {
   "cell_type": "code",
   "execution_count": 17,
   "metadata": {},
   "outputs": [
    {
     "data": {
      "text/plain": [
       "['../',\n",
       " '../../',\n",
       " '/home/jovyan/work/boxes_vis/git/obstacle-detection/examples',\n",
       " '/opt/conda/lib/python37.zip',\n",
       " '/opt/conda/lib/python3.7',\n",
       " '/opt/conda/lib/python3.7/lib-dynload',\n",
       " '',\n",
       " '/opt/conda/lib/python3.7/site-packages',\n",
       " '/opt/conda/lib/python3.7/site-packages/IPython/extensions',\n",
       " '/home/jovyan/.ipython',\n",
       " '/home/jovyan/work/boxes_vis/git/obstacle-detection/',\n",
       " '..',\n",
       " '/home/jovyan/work/boxes_vis/git/obstacle-detection/',\n",
       " '/home/jovyan/work/obstacle-detection/model/']"
      ]
     },
     "execution_count": 17,
     "metadata": {},
     "output_type": "execute_result"
    }
   ],
   "source": [
    "sys.path"
   ]
  },
  {
   "cell_type": "code",
   "execution_count": 6,
   "metadata": {},
   "outputs": [],
   "source": [
    "import yaml\n",
    "import numpy as np\n",
    "import pandas as pd\n",
    "import pyntcloud\n",
    "\n",
    "\n",
    "num ='000'\n",
    "scan = np.fromfile('../dataset/sequences/00/velodyne/000' + num + '.bin', dtype=np.float32)\n",
    "scan = scan.reshape((-1, 4))\n",
    "\n",
    "label = np.fromfile('../dataset/sequences/00/labels/000' + num + '.label', dtype=np.uint32)\n",
    "label = label.reshape((-1))"
   ]
  },
  {
   "cell_type": "code",
   "execution_count": 8,
   "metadata": {},
   "outputs": [],
   "source": [
    "with open('../config.yaml') as file:\n",
    "    config = yaml.load(file, Loader=yaml.FullLoader)"
   ]
  },
  {
   "cell_type": "code",
   "execution_count": 9,
   "metadata": {},
   "outputs": [],
   "source": [
    "obstacle_dct = config['obstacles']"
   ]
  },
  {
   "cell_type": "code",
   "execution_count": 10,
   "metadata": {
    "scrolled": true
   },
   "outputs": [
    {
     "data": {
      "text/plain": [
       "{10: 'car',\n",
       " 11: 'bicycle',\n",
       " 13: 'bus',\n",
       " 15: 'motorcycle',\n",
       " 16: 'on-rails',\n",
       " 18: 'truck',\n",
       " 20: 'other-vehicle',\n",
       " 30: 'person',\n",
       " 31: 'bicyclist',\n",
       " 32: 'motorcyclist',\n",
       " 252: 'moving-car',\n",
       " 253: 'moving-bicyclist',\n",
       " 254: 'moving-person',\n",
       " 255: 'moving-motorcyclist',\n",
       " 256: 'moving-on-rails',\n",
       " 257: 'moving-bus',\n",
       " 258: 'moving-truck',\n",
       " 259: 'moving-other-vehicle'}"
      ]
     },
     "execution_count": 10,
     "metadata": {},
     "output_type": "execute_result"
    }
   ],
   "source": [
    "# seg id -> seg name\n",
    "obstacle_dct"
   ]
  },
  {
   "cell_type": "code",
   "execution_count": 11,
   "metadata": {},
   "outputs": [],
   "source": [
    "leaning_map_obstacles = config['learning_map']"
   ]
  },
  {
   "cell_type": "code",
   "execution_count": 12,
   "metadata": {},
   "outputs": [],
   "source": [
    "# ground truth id -> learning id\n",
    "# leaning_map_obstacles"
   ]
  },
  {
   "cell_type": "code",
   "execution_count": 13,
   "metadata": {},
   "outputs": [
    {
     "data": {
      "text/plain": [
       "[1, 2, 3, 4, 5, 6, 7, 8]"
      ]
     },
     "execution_count": 13,
     "metadata": {},
     "output_type": "execute_result"
    }
   ],
   "source": [
    "mapped_obstacles_lst = list(set([leaning_map_obstacles[id] for id in obstacle_dct.keys()]))\n",
    "mapped_obstacles_lst"
   ]
  },
  {
   "cell_type": "code",
   "execution_count": 21,
   "metadata": {},
   "outputs": [],
   "source": [
    "import sys\n",
    "sys.path.append(\"..\")\n",
    "from model.tasks.semantic.infer2 import get_user "
   ]
  },
  {
   "cell_type": "markdown",
   "metadata": {},
   "source": [
    "### Load Model"
   ]
  },
  {
   "cell_type": "code",
   "execution_count": 22,
   "metadata": {
    "scrolled": false
   },
   "outputs": [
    {
     "name": "stdout",
     "output_type": "stream",
     "text": [
      "----------\n",
      "INTERFACE:\n",
      "model darknet21\n",
      "----------\n",
      "\n",
      "Opening arch config file from darknet21\n",
      "[Errno 2] No such file or directory: '/home/jovyan/work/obstacle-detection/model/darknet21/arch_cfg.yaml'\n",
      "Error opening arch yaml file.\n"
     ]
    },
    {
     "ename": "NameError",
     "evalue": "name 'quit' is not defined",
     "output_type": "error",
     "traceback": [
      "\u001b[0;31m---------------------------------------------------------------------------\u001b[0m",
      "\u001b[0;31mFileNotFoundError\u001b[0m                         Traceback (most recent call last)",
      "\u001b[0;32m~/work/boxes_vis/git/obstacle-detection/model/tasks/semantic/infer2.py\u001b[0m in \u001b[0;36mget_user\u001b[0;34m(model)\u001b[0m\n\u001b[1;32m     25\u001b[0m     \u001b[0mprint\u001b[0m\u001b[0;34m(\u001b[0m\u001b[0;34m\"Opening arch config file from %s\"\u001b[0m \u001b[0;34m%\u001b[0m \u001b[0mmodel\u001b[0m\u001b[0;34m)\u001b[0m\u001b[0;34m\u001b[0m\u001b[0;34m\u001b[0m\u001b[0m\n\u001b[0;32m---> 26\u001b[0;31m     \u001b[0mARCH\u001b[0m \u001b[0;34m=\u001b[0m \u001b[0myaml\u001b[0m\u001b[0;34m.\u001b[0m\u001b[0msafe_load\u001b[0m\u001b[0;34m(\u001b[0m\u001b[0mopen\u001b[0m\u001b[0;34m(\u001b[0m\u001b[0;34m\"/home/jovyan/work/obstacle-detection/model/\"\u001b[0m \u001b[0;34m+\u001b[0m \u001b[0mmodel\u001b[0m \u001b[0;34m+\u001b[0m \u001b[0;34m\"/arch_cfg.yaml\"\u001b[0m\u001b[0;34m,\u001b[0m \u001b[0;34m'r'\u001b[0m\u001b[0;34m)\u001b[0m\u001b[0;34m)\u001b[0m\u001b[0;34m\u001b[0m\u001b[0;34m\u001b[0m\u001b[0m\n\u001b[0m\u001b[1;32m     27\u001b[0m   \u001b[0;32mexcept\u001b[0m \u001b[0mException\u001b[0m \u001b[0;32mas\u001b[0m \u001b[0me\u001b[0m\u001b[0;34m:\u001b[0m\u001b[0;34m\u001b[0m\u001b[0;34m\u001b[0m\u001b[0m\n",
      "\u001b[0;31mFileNotFoundError\u001b[0m: [Errno 2] No such file or directory: '/home/jovyan/work/obstacle-detection/model/darknet21/arch_cfg.yaml'",
      "\nDuring handling of the above exception, another exception occurred:\n",
      "\u001b[0;31mNameError\u001b[0m                                 Traceback (most recent call last)",
      "\u001b[0;32m<ipython-input-22-11e2b9f0aa42>\u001b[0m in \u001b[0;36m<module>\u001b[0;34m\u001b[0m\n\u001b[1;32m      1\u001b[0m \u001b[0;31m#user = get_user(\"dataset\", \"darknet21\")\u001b[0m\u001b[0;34m\u001b[0m\u001b[0;34m\u001b[0m\u001b[0;34m\u001b[0m\u001b[0m\n\u001b[0;32m----> 2\u001b[0;31m \u001b[0muser\u001b[0m \u001b[0;34m=\u001b[0m \u001b[0mget_user\u001b[0m\u001b[0;34m(\u001b[0m\u001b[0;34m\"darknet21\"\u001b[0m\u001b[0;34m)\u001b[0m\u001b[0;34m\u001b[0m\u001b[0;34m\u001b[0m\u001b[0m\n\u001b[0m",
      "\u001b[0;32m~/work/boxes_vis/git/obstacle-detection/model/tasks/semantic/infer2.py\u001b[0m in \u001b[0;36mget_user\u001b[0;34m(model)\u001b[0m\n\u001b[1;32m     28\u001b[0m     \u001b[0mprint\u001b[0m\u001b[0;34m(\u001b[0m\u001b[0me\u001b[0m\u001b[0;34m)\u001b[0m\u001b[0;34m\u001b[0m\u001b[0;34m\u001b[0m\u001b[0m\n\u001b[1;32m     29\u001b[0m     \u001b[0mprint\u001b[0m\u001b[0;34m(\u001b[0m\u001b[0;34m\"Error opening arch yaml file.\"\u001b[0m\u001b[0;34m)\u001b[0m\u001b[0;34m\u001b[0m\u001b[0;34m\u001b[0m\u001b[0m\n\u001b[0;32m---> 30\u001b[0;31m     \u001b[0mquit\u001b[0m\u001b[0;34m(\u001b[0m\u001b[0;34m)\u001b[0m\u001b[0;34m\u001b[0m\u001b[0;34m\u001b[0m\u001b[0m\n\u001b[0m\u001b[1;32m     31\u001b[0m \u001b[0;34m\u001b[0m\u001b[0m\n\u001b[1;32m     32\u001b[0m   \u001b[0;31m# open data config file\u001b[0m\u001b[0;34m\u001b[0m\u001b[0;34m\u001b[0m\u001b[0;34m\u001b[0m\u001b[0m\n",
      "\u001b[0;31mNameError\u001b[0m: name 'quit' is not defined"
     ]
    }
   ],
   "source": [
    "#user = get_user(\"dataset\", \"darknet21\")\n",
    "user = get_user(\"darknet21\")"
   ]
  },
  {
   "cell_type": "code",
   "execution_count": 73,
   "metadata": {
    "scrolled": true
   },
   "outputs": [
    {
     "name": "stdout",
     "output_type": "stream",
     "text": [
      "Infered scan  dataset/sequences/00/velodyne/000000.bin in 2.986173152923584 sec\n",
      "Infered scan  dataset/sequences/00/velodyne/000000.bin in 3.015446186065674 sec\n",
      "Infered scan  dataset/sequences/00/velodyne/000000.bin in 2.9522764682769775 sec\n",
      "Infered scan  dataset/sequences/00/velodyne/000000.bin in 2.9182658195495605 sec\n",
      "Infered scan  dataset/sequences/00/velodyne/000000.bin in 2.86429762840271 sec\n",
      "Infered scan  dataset/sequences/00/velodyne/000000.bin in 2.9911413192749023 sec\n",
      "Infered scan  dataset/sequences/00/velodyne/000000.bin in 3.4889438152313232 sec\n",
      "Infered scan  dataset/sequences/00/velodyne/000000.bin in 3.6889333724975586 sec\n",
      "3.21 s ± 311 ms per loop (mean ± std. dev. of 7 runs, 1 loop each)\n"
     ]
    }
   ],
   "source": [
    "%timeit predicted_labels = user.infer('dataset/sequences/00/velodyne/000000.bin')"
   ]
  },
  {
   "cell_type": "code",
   "execution_count": 65,
   "metadata": {},
   "outputs": [
    {
     "name": "stdout",
     "output_type": "stream",
     "text": [
      "Infered scan  dataset/sequences/00/velodyne/000000.bin in 3.8645498752593994 sec\n"
     ]
    }
   ],
   "source": [
    "predicted_labels = user.infer('dataset/sequences/00/velodyne/000000.bin')"
   ]
  },
  {
   "cell_type": "code",
   "execution_count": 66,
   "metadata": {},
   "outputs": [
    {
     "data": {
      "text/plain": [
       "(124668,)"
      ]
     },
     "execution_count": 66,
     "metadata": {},
     "output_type": "execute_result"
    }
   ],
   "source": [
    "predicted_labels.shape"
   ]
  },
  {
   "cell_type": "markdown",
   "metadata": {},
   "source": [
    "### Visualize segmentated point cloud"
   ]
  },
  {
   "cell_type": "code",
   "execution_count": 75,
   "metadata": {},
   "outputs": [
    {
     "data": {
      "application/vnd.jupyter.widget-view+json": {
       "model_id": "",
       "version_major": 2,
       "version_minor": 0
      },
      "text/plain": [
       "Renderer(camera=PerspectiveCamera(aspect=1.6, fov=90.0, position=(-1.4353549480438232, 45.90348565578461, 3.02…"
      ]
     },
     "metadata": {},
     "output_type": "display_data"
    },
    {
     "data": {
      "application/vnd.jupyter.widget-view+json": {
       "model_id": "",
       "version_major": 2,
       "version_minor": 0
      },
      "text/plain": [
       "HBox(children=(Label(value='Point size:'), FloatSlider(value=15.605471801757812, max=156.05471801757812, step=…"
      ]
     },
     "metadata": {},
     "output_type": "display_data"
    }
   ],
   "source": [
    "cloud = pd.DataFrame(scan[:, :3], columns=['x', 'y', 'z'])\n",
    "cloud['seg_id'] = predicted_labels\n",
    "pcloud = pyntcloud.PyntCloud(cloud)\n",
    "pcloud.plot(use_as_color='seg_id', cmap=\"cool\", backend=\"pythreejs\")"
   ]
  },
  {
   "cell_type": "code",
   "execution_count": 79,
   "metadata": {},
   "outputs": [
    {
     "data": {
      "text/plain": [
       "array([16, 15, 13, 19, 18, 14,  1,  8,  9, 10, 17, 11,  5,  7])"
      ]
     },
     "execution_count": 79,
     "metadata": {},
     "output_type": "execute_result"
    }
   ],
   "source": [
    "pcloud.points.seg_id.unique()"
   ]
  },
  {
   "cell_type": "markdown",
   "metadata": {},
   "source": [
    "### Visualize only obstacles"
   ]
  },
  {
   "cell_type": "code",
   "execution_count": 89,
   "metadata": {
    "scrolled": false
   },
   "outputs": [
    {
     "data": {
      "application/vnd.jupyter.widget-view+json": {
       "model_id": "4bf6b8c3f345403aa722034af8b38f59",
       "version_major": 2,
       "version_minor": 0
      },
      "text/plain": [
       "Renderer(camera=PerspectiveCamera(aspect=1.6, fov=90.0, position=(2.0857174396514893, 45.77106475830078, 1.971…"
      ]
     },
     "metadata": {},
     "output_type": "display_data"
    },
    {
     "data": {
      "application/vnd.jupyter.widget-view+json": {
       "model_id": "8fe3b7fa53874e158cd79551b6806a1f",
       "version_major": 2,
       "version_minor": 0
      },
      "text/plain": [
       "HBox(children=(Label(value='Point size:'), FloatSlider(value=13.864775085449219, max=138.6477508544922, step=0…"
      ]
     },
     "metadata": {},
     "output_type": "display_data"
    }
   ],
   "source": [
    "cloud_selected  = cloud[cloud.seg_id.isin(mapped_obstacles_lst)]\n",
    "pcloud = pyntcloud.PyntCloud(cloud_selected)\n",
    "pcloud.plot(use_as_color='seg_id', cmap=\"cool\", backend=\"pythreejs\")"
   ]
  },
  {
   "cell_type": "markdown",
   "metadata": {},
   "source": [
    "### Load Model"
   ]
  },
  {
   "cell_type": "code",
   "execution_count": 81,
   "metadata": {
    "scrolled": false
   },
   "outputs": [
    {
     "name": "stdout",
     "output_type": "stream",
     "text": [
      "----------\n",
      "INTERFACE:\n",
      "model squeezeseg\n",
      "----------\n",
      "\n",
      "Opening arch config file from squeezeseg\n",
      "Opening data config file from squeezeseg\n",
      "model folder exists! Using model from squeezeseg\n",
      "parser started\n",
      "Using SqueezeNet Backbone\n",
      "Depth of backbone input =  5\n",
      "Original OS:  16\n",
      "New OS:  16\n",
      "Strides:  [2, 2, 2, 2]\n",
      "Decoder original OS:  16\n",
      "Decoder new OS:  16\n",
      "Decoder strides:  [2, 2, 2, 2]\n",
      "Total number of parameters:  915540\n",
      "Total number of parameters requires_grad:  915540\n",
      "Param encoder  724032\n",
      "Param decoder  179968\n",
      "Param head  11540\n",
      "Successfully loaded model backbone weights\n",
      "Successfully loaded model decoder weights\n",
      "Successfully loaded model head weights\n",
      "Infering in device:  cpu\n"
     ]
    }
   ],
   "source": [
    "#user = get_user(\"dataset\", \"darknet21\")\n",
    "user = get_user( \"squeezeseg\")"
   ]
  },
  {
   "cell_type": "code",
   "execution_count": 82,
   "metadata": {
    "scrolled": true
   },
   "outputs": [
    {
     "name": "stdout",
     "output_type": "stream",
     "text": [
      "Infered scan  dataset/sequences/00/velodyne/000000.bin in 0.7203648090362549 sec\n",
      "Infered scan  dataset/sequences/00/velodyne/000000.bin in 0.9078242778778076 sec\n",
      "Infered scan  dataset/sequences/00/velodyne/000000.bin in 0.8646385669708252 sec\n",
      "Infered scan  dataset/sequences/00/velodyne/000000.bin in 0.8509914875030518 sec\n",
      "Infered scan  dataset/sequences/00/velodyne/000000.bin in 0.7517774105072021 sec\n",
      "Infered scan  dataset/sequences/00/velodyne/000000.bin in 0.7306826114654541 sec\n",
      "Infered scan  dataset/sequences/00/velodyne/000000.bin in 0.7433125972747803 sec\n",
      "Infered scan  dataset/sequences/00/velodyne/000000.bin in 0.679023027420044 sec\n",
      "865 ms ± 77.9 ms per loop (mean ± std. dev. of 7 runs, 1 loop each)\n"
     ]
    }
   ],
   "source": [
    "%timeit predicted_labels = user.infer('dataset/sequences/00/velodyne/000000.bin')"
   ]
  },
  {
   "cell_type": "code",
   "execution_count": 83,
   "metadata": {},
   "outputs": [
    {
     "name": "stdout",
     "output_type": "stream",
     "text": [
      "Infered scan  dataset/sequences/00/velodyne/000000.bin in 0.6660304069519043 sec\n"
     ]
    }
   ],
   "source": [
    "predicted_labels = user.infer('dataset/sequences/00/velodyne/000000.bin')"
   ]
  },
  {
   "cell_type": "code",
   "execution_count": 84,
   "metadata": {},
   "outputs": [
    {
     "data": {
      "text/plain": [
       "(124668,)"
      ]
     },
     "execution_count": 84,
     "metadata": {},
     "output_type": "execute_result"
    }
   ],
   "source": [
    "predicted_labels.shape"
   ]
  },
  {
   "cell_type": "markdown",
   "metadata": {},
   "source": [
    "### Visualize segmentated point cloud"
   ]
  },
  {
   "cell_type": "code",
   "execution_count": 85,
   "metadata": {},
   "outputs": [
    {
     "data": {
      "application/vnd.jupyter.widget-view+json": {
       "model_id": "d19597c73be144b2a2dd31e7216c776c",
       "version_major": 2,
       "version_minor": 0
      },
      "text/plain": [
       "Renderer(camera=PerspectiveCamera(aspect=1.6, fov=90.0, position=(-1.4353549480438232, 45.90348565578461, 3.02…"
      ]
     },
     "metadata": {},
     "output_type": "display_data"
    },
    {
     "data": {
      "application/vnd.jupyter.widget-view+json": {
       "model_id": "1779fdd1a510464f9630fc3916a6cf70",
       "version_major": 2,
       "version_minor": 0
      },
      "text/plain": [
       "HBox(children=(Label(value='Point size:'), FloatSlider(value=15.605471801757812, max=156.05471801757812, step=…"
      ]
     },
     "metadata": {},
     "output_type": "display_data"
    }
   ],
   "source": [
    "cloud = pd.DataFrame(scan[:, :3], columns=['x', 'y', 'z'])\n",
    "cloud['seg_id'] = predicted_labels\n",
    "pcloud = pyntcloud.PyntCloud(cloud)\n",
    "pcloud.plot(use_as_color='seg_id', cmap=\"cool\", backend=\"pythreejs\")"
   ]
  },
  {
   "cell_type": "code",
   "execution_count": 86,
   "metadata": {},
   "outputs": [
    {
     "data": {
      "text/plain": [
       "array([18, 16, 19, 13, 15,  4,  5, 12,  1,  6,  8, 14, 17,  7, 10,  9, 11,\n",
       "        3,  2])"
      ]
     },
     "execution_count": 86,
     "metadata": {},
     "output_type": "execute_result"
    }
   ],
   "source": [
    "pcloud.points.seg_id.unique()"
   ]
  },
  {
   "cell_type": "markdown",
   "metadata": {},
   "source": [
    "### Visualize only obstacles"
   ]
  },
  {
   "cell_type": "code",
   "execution_count": 90,
   "metadata": {
    "scrolled": false
   },
   "outputs": [
    {
     "data": {
      "application/vnd.jupyter.widget-view+json": {
       "model_id": "04fc18884c574ac09a02a5484babb38e",
       "version_major": 2,
       "version_minor": 0
      },
      "text/plain": [
       "Renderer(camera=PerspectiveCamera(aspect=1.6, fov=90.0, position=(2.0857174396514893, 45.77106475830078, 1.971…"
      ]
     },
     "metadata": {},
     "output_type": "display_data"
    },
    {
     "data": {
      "application/vnd.jupyter.widget-view+json": {
       "model_id": "5193dd296cb64eaa9e0ada54a692ee20",
       "version_major": 2,
       "version_minor": 0
      },
      "text/plain": [
       "HBox(children=(Label(value='Point size:'), FloatSlider(value=13.864775085449219, max=138.6477508544922, step=0…"
      ]
     },
     "metadata": {},
     "output_type": "display_data"
    }
   ],
   "source": [
    "cloud_selected  = cloud[cloud.seg_id.isin(mapped_obstacles_lst)]\n",
    "pcloud = pyntcloud.PyntCloud(cloud_selected)\n",
    "pcloud.plot(use_as_color='seg_id', cmap=\"cool\", backend=\"pythreejs\")"
   ]
  },
  {
   "cell_type": "code",
   "execution_count": null,
   "metadata": {},
   "outputs": [],
   "source": []
  }
 ],
 "metadata": {
  "kernelspec": {
   "display_name": "Python 3",
   "language": "python",
   "name": "python3"
  },
  "language_info": {
   "codemirror_mode": {
    "name": "ipython",
    "version": 3
   },
   "file_extension": ".py",
   "mimetype": "text/x-python",
   "name": "python",
   "nbconvert_exporter": "python",
   "pygments_lexer": "ipython3",
   "version": "3.7.6"
  }
 },
 "nbformat": 4,
 "nbformat_minor": 4
}
