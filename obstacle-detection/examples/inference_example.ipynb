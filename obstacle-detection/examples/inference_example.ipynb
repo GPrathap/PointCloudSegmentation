{
 "cells": [
  {
   "cell_type": "code",
   "execution_count": 1,
   "metadata": {},
   "outputs": [
    {
     "data": {
      "text/plain": [
       "'/home/jovyan/work/obstacle-detection/examples'"
      ]
     },
     "execution_count": 1,
     "metadata": {},
     "output_type": "execute_result"
    }
   ],
   "source": [
    "%pwd"
   ]
  },
  {
   "cell_type": "code",
   "execution_count": 2,
   "metadata": {},
   "outputs": [
    {
     "name": "stdout",
     "output_type": "stream",
     "text": [
      "/home/jovyan/work/obstacle-detection\n"
     ]
    }
   ],
   "source": [
    "%cd .."
   ]
  },
  {
   "cell_type": "code",
   "execution_count": 4,
   "metadata": {},
   "outputs": [
    {
     "name": "stdout",
     "output_type": "stream",
     "text": [
      "----------\n",
      "INTERFACE:\n",
      "model squeezeseg\n",
      "----------\n",
      "\n",
      "Opening arch config file from squeezeseg\n",
      "Opening data config file from squeezeseg\n",
      "model folder exists! Using model from squeezeseg\n",
      "parser started\n",
      "Using SqueezeNet Backbone\n",
      "Depth of backbone input =  5\n",
      "Original OS:  16\n",
      "New OS:  16\n",
      "Strides:  [2, 2, 2, 2]\n",
      "Decoder original OS:  16\n",
      "Decoder new OS:  16\n",
      "Decoder strides:  [2, 2, 2, 2]\n",
      "Total number of parameters:  915540\n",
      "Total number of parameters requires_grad:  915540\n",
      "Param encoder  724032\n",
      "Param decoder  179968\n",
      "Param head  11540\n",
      "\n",
      "Couldn't load backbone, using random weights. Error:  [Errno 2] No such file or directory: 'squeezeseg/backbone'\n",
      "Couldn't load decoder, using random weights. Error:  [Errno 2] No such file or directory: 'squeezeseg/segmentation_decoder'\n",
      "Couldn't load head, using random weights. Error:  [Errno 2] No such file or directory: 'squeezeseg/segmentation_head'\n",
      "Infering in device:  cpu\n"
     ]
    }
   ],
   "source": [
    "import sys\n",
    "sys.path.append(\"..\")\n",
    "from model.tasks.semantic.infer2 import get_user \n",
    "#user = get_user(\"dataset\", \"darknet21\")\n",
    "user = get_user( \"squeezeseg\")"
   ]
  },
  {
   "cell_type": "code",
   "execution_count": 4,
   "metadata": {
    "scrolled": true
   },
   "outputs": [
    {
     "name": "stdout",
     "output_type": "stream",
     "text": [
      "Infered scan  dataset/sequences/00/velodyne/000000.bin in 0.6371786594390869 sec\n",
      "Infered scan  dataset/sequences/00/velodyne/000000.bin in 0.6095879077911377 sec\n",
      "Infered scan  dataset/sequences/00/velodyne/000000.bin in 0.5688004493713379 sec\n",
      "Infered scan  dataset/sequences/00/velodyne/000000.bin in 0.6032669544219971 sec\n",
      "Infered scan  dataset/sequences/00/velodyne/000000.bin in 0.5995407104492188 sec\n",
      "Infered scan  dataset/sequences/00/velodyne/000000.bin in 0.6052696704864502 sec\n",
      "Infered scan  dataset/sequences/00/velodyne/000000.bin in 0.6007773876190186 sec\n",
      "Infered scan  dataset/sequences/00/velodyne/000000.bin in 0.6064260005950928 sec\n",
      "643 ms ± 2.69 ms per loop (mean ± std. dev. of 7 runs, 1 loop each)\n"
     ]
    }
   ],
   "source": [
    "%timeit predicted_labels = user.infer('dataset/sequences/00/velodyne/000000.bin')"
   ]
  },
  {
   "cell_type": "code",
   "execution_count": 5,
   "metadata": {},
   "outputs": [
    {
     "name": "stdout",
     "output_type": "stream",
     "text": [
      "Infered scan  dataset/sequences/00/velodyne/000000.bin in 0.6392786502838135 sec\n"
     ]
    }
   ],
   "source": [
    "predicted_labels = user.infer('dataset/sequences/00/velodyne/000000.bin')"
   ]
  },
  {
   "cell_type": "code",
   "execution_count": 6,
   "metadata": {},
   "outputs": [
    {
     "data": {
      "text/plain": [
       "(124649,)"
      ]
     },
     "execution_count": 6,
     "metadata": {},
     "output_type": "execute_result"
    }
   ],
   "source": [
    "predicted_labels.shape"
   ]
  },
  {
   "cell_type": "code",
   "execution_count": 7,
   "metadata": {},
   "outputs": [
    {
     "data": {
      "text/plain": [
       "array([18, 16, 16, ...,  9,  9,  9])"
      ]
     },
     "execution_count": 7,
     "metadata": {},
     "output_type": "execute_result"
    }
   ],
   "source": [
    "predicted_labels"
   ]
  },
  {
   "cell_type": "code",
   "execution_count": null,
   "metadata": {},
   "outputs": [],
   "source": []
  }
 ],
 "metadata": {
  "kernelspec": {
   "display_name": "Python 3",
   "language": "python",
   "name": "python3"
  },
  "language_info": {
   "codemirror_mode": {
    "name": "ipython",
    "version": 3
   },
   "file_extension": ".py",
   "mimetype": "text/x-python",
   "name": "python",
   "nbconvert_exporter": "python",
   "pygments_lexer": "ipython3",
   "version": "3.7.6"
  }
 },
 "nbformat": 4,
 "nbformat_minor": 4
}
