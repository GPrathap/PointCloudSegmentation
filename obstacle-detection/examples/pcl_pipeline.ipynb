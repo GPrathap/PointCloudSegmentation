{
 "cells": [
  {
   "cell_type": "code",
   "execution_count": 1,
   "metadata": {},
   "outputs": [],
   "source": [
    "import os\n",
    "import sys\n",
    "\n",
    "sys.path.append('/home/jovyan/work/obstacle-detection')\n",
    "sys.path.append('/home/jovyan/work/')\n",
    "import numpy as np\n",
    "import pandas as pd\n",
    "\n",
    "import pcl\n",
    "import pcl.pcl_visualization\n",
    "import pythreejs\n",
    "import pyntcloud\n",
    "import matplotlib.pyplot as plt\n",
    "from importlib import reload  \n",
    "\n",
    "from pipeline import pcl_pipeline"
   ]
  },
  {
   "cell_type": "code",
   "execution_count": 2,
   "metadata": {},
   "outputs": [],
   "source": [
    "PATH_TO_DATASET = '/home/jovyan/work/dataset_sampling/rangenet_sampling/dataset/sequences/00/'"
   ]
  },
  {
   "cell_type": "code",
   "execution_count": 3,
   "metadata": {},
   "outputs": [],
   "source": [
    "scan = np.fromfile(PATH_TO_DATASET + 'velodyne/000055.bin', dtype=np.float32)\n",
    "scan = scan.reshape((-1, 4))[:, :3]\n",
    "\n",
    "label = np.fromfile(PATH_TO_DATASET + 'labels/000055.label', dtype=np.uint32)\n",
    "label = label.reshape((-1))\n",
    "\n",
    "cloud_XYZ = pcl.PointCloud()\n",
    "cloud_XYZ.from_array(scan[:,:3])"
   ]
  },
  {
   "cell_type": "code",
   "execution_count": 4,
   "metadata": {},
   "outputs": [],
   "source": [
    "obstacle_lst = {\n",
    "  10: \"car\",\n",
    "  11: \"bicycle\",\n",
    "  13: \"bus\",\n",
    "  15: \"motorcycle\",\n",
    "  16: \"on-rails\",\n",
    "  18: \"truck\",\n",
    "  20: \"other-vehicle\",\n",
    "  30: \"person\",\n",
    "  31: \"bicyclist\",\n",
    "  32: \"motorcyclist\",\n",
    "  252: \"moving-car\",\n",
    "  253: \"moving-bicyclist\",\n",
    "  254: \"moving-person\",\n",
    "  255: \"moving-motorcyclist\",\n",
    "  256: \"moving-on-rails\",\n",
    "  257: \"moving-bus\",\n",
    "  258: \"moving-truck\",\n",
    "  259: \"moving-other-vehicle\"\n",
    "}"
   ]
  },
  {
   "cell_type": "code",
   "execution_count": 13,
   "metadata": {},
   "outputs": [],
   "source": [
    "def roi_filter(pcloud, verbose=True, **params):\n",
    "    if verbose:\n",
    "        print('Input pcloud size: {}'.format(len(pcloud)))\n",
    "    pcloud['camera'] = ((pcloud['x'] > params['min_x']) & (pcloud['x'] < params['max_x']) &\n",
    "                       (pcloud['y'] >  params['min_y']) & (pcloud['y'] < params['max_y']) &\n",
    "                       (pcloud['z'] >  params['min_z']) & (pcloud['z'] <  params['max_z']))\n",
    "    pcloud = pcloud[pcloud['camera'] == True]\n",
    "    pcloud = pcloud.drop(['camera'], axis=1)\n",
    "    if verbose:\n",
    "        print('Output ROI pcloud size: {}'.format(len(pcloud)))\n",
    "    return pcloud\n",
    "\n",
    "# pcloud = roi_filter(pcloud, min_x=-6, max_x=50, \n",
    "#                   min_y=-20, max_y=25, \n",
    "#                   min_z=-2, max_z=2)"
   ]
  },
  {
   "cell_type": "code",
   "execution_count": 16,
   "metadata": {},
   "outputs": [
    {
     "name": "stdout",
     "output_type": "stream",
     "text": [
      "(16053, 3)\n",
      "(15408, 3)\n",
      "(14011, 3)\n"
     ]
    }
   ],
   "source": [
    "pcloud = pd.DataFrame(np.concatenate((scan,label.reshape(len(label), 1)), axis=1), \n",
    "                      columns=['x', 'y', 'z', 'seg_id'])\n",
    "pcloud.seg_id = pcloud.seg_id.astype('uint32')\n",
    "pcloud.seg_id = pcloud.seg_id.apply(lambda x: x & 0xFFFF)\n",
    "pcloud = pcloud[pcloud['seg_id'].isin(list(obstacle_lst.keys()))]\n",
    "pcloud_to_pcl = pcloud.drop(['seg_id'], axis=1)\n",
    "print(pcloud_to_pcl.shape)\n",
    "pcloud_pcl = pcl.PointCloud()\n",
    "pcloud_pcl.from_array(pcloud_to_pcl.to_numpy(dtype=np.float32))\n",
    "\n",
    "# сколько в метрах?, перебрать параметры по X\n",
    "pcloud_pcl_roi = pcl_pipeline.roi_filter(pcloud_pcl, [-30, 30], [-6, 8], [-3, 3])\n",
    "\n",
    "pcloud_pcl_roi_array = np.array(pcloud_pcl_roi, dtype=np.float32)\n",
    "print(pcloud_pcl_roi_array.shape)\n",
    "\n",
    "pcloud_pcl_fil = pcloud_pcl_roi.make_statistical_outlier_filter()\n",
    "pcloud_pcl_fil.set_mean_k(50)\n",
    "pcloud_pcl_fil.set_std_dev_mul_thresh(1.0)\n",
    "pcloud_array = np.array(pcloud_pcl_fil.filter(), dtype=np.float32)\n",
    "print(pcloud_array.shape)\n",
    "\n",
    "#temp_cloud = pcloud[pcloud.seg_id == 10]\n",
    "#temp_cloud = temp_cloud.drop(['seg_id'], axis=1)"
   ]
  },
  {
   "cell_type": "code",
   "execution_count": 30,
   "metadata": {},
   "outputs": [],
   "source": [
    "def plane_segmentation(cloud, dist_thold, max_iter):\n",
    "    \"\"\"\n",
    "    Input parameters:\n",
    "        cloud: Input cloud\n",
    "        dist_thold: distance threshold\n",
    "        max_iter: maximal number of iteration\n",
    "    Output:\n",
    "        indices: list of indices of the PCL points that belongs to the plane\n",
    "        coefficient: the coefficients of the plane-fitting (e.g., [a, b, c, d] for ax + by +cz + d =0)\n",
    "    \"\"\"\n",
    "    seg = cloud.make_segmenter_normals(ksearch=50)# For simplicity,hard coded\n",
    "    seg.set_optimize_coefficients(True)\n",
    "    seg.set_model_type(pcl.SACMODEL_NORMAL_PLANE)\n",
    "    seg.set_method_type(pcl.SAC_RANSAC)\n",
    "    seg.set_distance_threshold(dist_thold)\n",
    "    seg.set_max_iterations(max_iter)\n",
    "    indices, coefficients = seg.segment()\n",
    "    return indices, coefficients"
   ]
  },
  {
   "cell_type": "code",
   "execution_count": 33,
   "metadata": {},
   "outputs": [],
   "source": [
    "from datetime import datetime\n",
    "import time\n",
    "from importlib import reload  \n",
    "from pipeline import common\n",
    "\n",
    "pcl_pipeline = reload(pcl_pipeline)\n",
    "\n",
    "def pipeline_optimized_pcl(scan, label, obstacle_lst, verbose=False, exec_time=False, **params):\n",
    "\n",
    "    # get segment id\n",
    "    start_time = datetime.now()\n",
    "    pcloud = pd.DataFrame(np.concatenate((scan,label.reshape(len(label), 1)), axis=1), \n",
    "                          columns=['x', 'y', 'z', 'seg_id'])\n",
    "\n",
    "    pcloud = common.obstacle_filter(pcloud, obstacle_lst, proc_labels=True, verbose=False)\n",
    "    pcloud = pcloud.drop(['seg_id'], axis=1)\n",
    "    #pcloud = pcloud.drop(['camera'], axis=1)\n",
    "    pcloud_pcl = pcl.PointCloud()\n",
    "    pcloud_pcl.from_array(pcloud.to_numpy(dtype=np.float32))\n",
    "    obstacle_time = datetime.now() - start_time\n",
    "    \n",
    "    # get voxel grid\n",
    "    start_time = datetime.now()\n",
    "    #pcloud_pcl = pcl.PointCloud()\n",
    "    #pcloud_pcl.from_array(pcloud.to_numpy(dtype=np.float32))\n",
    "    voxelgrid_id = pcl_pipeline.voxel_filter(pcloud_pcl, [params['x_voxels'],\n",
    "                                                          params['y_voxels'],\n",
    "                                                          params['z_voxels']])\n",
    "    #voxelgrid_id = pcloud_pcl  \n",
    "    voxel_time = datetime.now() - start_time\n",
    "\n",
    "    # ROI filter\n",
    "    start_time = datetime.now()\n",
    "    pcloud_roi = pcl_pipeline.roi_filter(voxelgrid_id, [params['roi_x_min'], params['roi_x_max']], \n",
    "                                    [params['roi_y_min'], params['roi_y_max']], \n",
    "                                    [params['roi_z_min'], params['roi_z_max']],)\n",
    "    #pcloud = common.roi_filter(pcloud,  min_x=params['roi_x_min'], max_x=params['roi_x_max'], \n",
    "    #                                    min_y=params['roi_y_min'], max_y=params['roi_y_max'],\n",
    "    #                                    min_z=params['roi_z_min'], max_z=params['roi_z_max'], verbose=False)\n",
    "    roi_time = datetime.now() - start_time\n",
    "    \n",
    "    indices, coefficients = plane_segmentation(pcloud_roi, 0.3, 100)\n",
    "    cloud_obsts = pcloud_roi.extract(indices, negative = True)\n",
    "\n",
    "    # get cluster\n",
    "    start_time = datetime.now()\n",
    "\n",
    "    cluster_indices = pcl_pipeline.clustering(cloud_obsts, params['tol_distance'], params['min_cluster_size'], 150000)        \n",
    "    clustering_time = datetime.now() - start_time\n",
    "    \n",
    "    print(np.array(pcloud_pcl, dtype=np.float32).shape, len(cluster_indices))\n",
    "    \n",
    "    # get bboxes\n",
    "    start_time = datetime.now()\n",
    "    cloud_cluster_list, box_coord_list = pcl_pipeline.get_cluster_box_list(\n",
    "                                                cluster_indices, cloud_obsts, \n",
    "                                                radius_search=params['radius_search'], \n",
    "                                                min_neighbors_in_radius=params['min_neighbors_in_radius'])\n",
    "\n",
    "    bbox_time = datetime.now() - start_time\n",
    "\n",
    "    n = 1000\n",
    "    if verbose:\n",
    "        print('Execution time:')\n",
    "        print('\\n - ROI filtering: {:.0f} ms'.format(roi_time.microseconds / n))\n",
    "        print('\\n - Filtering obstacles: {:.0f} ms'.format(obstacle_time.microseconds / n))\n",
    "        print('\\n - Voxel grid: {:.0f} ms'.format(voxel_time.microseconds / n))\n",
    "        print('\\n - Clustering: {:.0f} ms'.format(clustering_time.microseconds / n))\n",
    "        print('\\n - Min-max cluster points: {:.0f} ms \\n'.format(bbox_time.microseconds / n))\n",
    "        \n",
    "    if exec_time:\n",
    "        return box_coord_list, voxelgrid_id, {'roi_time': roi_time.microseconds / n,\n",
    "                                        'filter_obstacle_time': obstacle_time.microseconds / n,\n",
    "                                        'voxel_grid_time': voxel_time.microseconds / n,\n",
    "                                        'clustering_time': clustering_time.microseconds / n,\n",
    "                                        'outlier_filter_bbox_time': bbox_time.microseconds / n}\n",
    "    else:\n",
    "        return box_coord_list, voxelgrid_id"
   ]
  },
  {
   "cell_type": "code",
   "execution_count": 34,
   "metadata": {},
   "outputs": [
    {
     "name": "stdout",
     "output_type": "stream",
     "text": [
      "(10679, 3) 8\n",
      "Execution time:\n",
      "\n",
      " - ROI filtering: 1 ms\n",
      "\n",
      " - Filtering obstacles: 446 ms\n",
      "\n",
      " - Voxel grid: 5 ms\n",
      "\n",
      " - Clustering: 27 ms\n",
      "\n",
      " - Min-max cluster points: 9 ms \n",
      "\n",
      "CPU times: user 493 ms, sys: 71 ms, total: 564 ms\n",
      "Wall time: 572 ms\n"
     ]
    }
   ],
   "source": [
    "params = {'x_voxels'     : 0.3, 'y_voxels': 0.3, 'z_voxels': 0.3, \n",
    "          'roi_x_min'    : -30,   'roi_x_max'              : 30,\n",
    "          'roi_y_min'    : -6, 'roi_y_max'                : 8,\n",
    "          'roi_z_min'    : -3,  'roi_z_max'                : 3, \n",
    "          'tol_distance' : 0.7, 'min_cluster_size'         : 30,\n",
    "          'radius_search': 0.8,   'min_neighbors_in_radius': 2}\n",
    "%time box_coord_list, pcloud_pcl, time = pipeline_optimized_pcl(scan, label, obstacle_lst, verbose=True, exec_time=True, **params)"
   ]
  },
  {
   "cell_type": "code",
   "execution_count": 24,
   "metadata": {
    "collapsed": true
   },
   "outputs": [
    {
     "data": {
      "text/plain": [
       "([array([[-43.13823318,  45.83708191,  45.83708191, -43.13823318,\n",
       "          -43.13823318,  45.83708191,  45.83708191, -43.13823318],\n",
       "         [ -4.20545006,  -4.20545006,   8.9893446 ,   8.9893446 ,\n",
       "           -4.20545006,  -4.20545006,   8.9893446 ,   8.9893446 ],\n",
       "         [ -2.04606462,  -2.04606462,  -2.04606462,  -2.04606462,\n",
       "            0.26768413,   0.26768413,   0.26768413,   0.26768413]]),\n",
       "  array([[-11.17521   ,  44.60187531,  44.60187531, -11.17521   ,\n",
       "          -11.17521   ,  44.60187531,  44.60187531, -11.17521   ],\n",
       "         [ -4.20443678,  -4.20443678,  10.71786785,  10.71786785,\n",
       "           -4.20443678,  -4.20443678,  10.71786785,  10.71786785],\n",
       "         [ -1.2731303 ,  -1.2731303 ,  -1.2731303 ,  -1.2731303 ,\n",
       "            0.26774919,   0.26774919,   0.26774919,   0.26774919]]),\n",
       "  array([[-43.72450256,  47.29917908,  47.29917908, -43.72450256,\n",
       "          -43.72450256,  47.29917908,  47.29917908, -43.72450256],\n",
       "         [ -4.46861839,  -4.46861839,   8.84343815,   8.84343815,\n",
       "           -4.46861839,  -4.46861839,   8.84343815,   8.84343815],\n",
       "         [ -2.04412937,  -2.04412937,  -2.04412937,  -2.04412937,\n",
       "            0.17503542,   0.17503542,   0.17503542,   0.17503542]]),\n",
       "  array([[-10.45389652,  49.71401596,  49.71401596, -10.45389652,\n",
       "          -10.45389652,  49.71401596,  49.71401596, -10.45389652],\n",
       "         [ -4.3136282 ,  -4.3136282 ,   7.88297224,   7.88297224,\n",
       "           -4.3136282 ,  -4.3136282 ,   7.88297224,   7.88297224],\n",
       "         [ -1.33130717,  -1.33130717,  -1.33130717,  -1.33130717,\n",
       "            0.09676773,   0.09676773,   0.09676773,   0.09676773]]),\n",
       "  array([[-4.33108826e+01,  4.74362373e+01,  4.74362373e+01,\n",
       "          -4.33108826e+01, -4.33108826e+01,  4.74362373e+01,\n",
       "           4.74362373e+01, -4.33108826e+01],\n",
       "         [-4.05098104e+00, -4.05098104e+00,  8.61227989e+00,\n",
       "           8.61227989e+00, -4.05098104e+00, -4.05098104e+00,\n",
       "           8.61227989e+00,  8.61227989e+00],\n",
       "         [-2.05180216e+00, -2.05180216e+00, -2.05180216e+00,\n",
       "          -2.05180216e+00,  1.54768508e-02,  1.54768508e-02,\n",
       "           1.54768508e-02,  1.54768508e-02]]),\n",
       "  array([[-39.93073273,  47.37641144,  47.37641144, -39.93073273,\n",
       "          -39.93073273,  47.37641144,  47.37641144, -39.93073273],\n",
       "         [ -4.17544365,  -4.17544365,  10.85884953,  10.85884953,\n",
       "           -4.17544365,  -4.17544365,  10.85884953,  10.85884953],\n",
       "         [ -1.03763199,  -1.03763199,  -1.03763199,  -1.03763199,\n",
       "            0.14907336,   0.14907336,   0.14907336,   0.14907336]]),\n",
       "  array([[-10.69530392,  45.87764359,  45.87764359, -10.69530392,\n",
       "          -10.69530392,  45.87764359,  45.87764359, -10.69530392],\n",
       "         [ -4.46461535,  -4.46461535,   7.99395323,   7.99395323,\n",
       "           -4.46461535,  -4.46461535,   7.99395323,   7.99395323],\n",
       "         [ -1.3301003 ,  -1.3301003 ,  -1.3301003 ,  -1.3301003 ,\n",
       "            0.09160876,   0.09160876,   0.09160876,   0.09160876]]),\n",
       "  array([[-43.21847916,  47.20454788,  47.20454788, -43.21847916,\n",
       "          -43.21847916,  47.20454788,  47.20454788, -43.21847916],\n",
       "         [ -4.23742676,  -4.23742676,   8.24992466,   8.24992466,\n",
       "           -4.23742676,  -4.23742676,   8.24992466,   8.24992466],\n",
       "         [ -1.31652629,  -1.31652629,  -1.31652629,  -1.31652629,\n",
       "            0.1057385 ,   0.1057385 ,   0.1057385 ,   0.1057385 ]]),\n",
       "  array([[-9.8592844 , 44.50818634, 44.50818634, -9.8592844 , -9.8592844 ,\n",
       "          44.50818634, 44.50818634, -9.8592844 ],\n",
       "         [-4.21942663, -4.21942663,  7.91696215,  7.91696215, -4.21942663,\n",
       "          -4.21942663,  7.91696215,  7.91696215],\n",
       "         [-1.32405877, -1.32405877, -1.32405877, -1.32405877,  0.05455939,\n",
       "           0.05455939,  0.05455939,  0.05455939]]),\n",
       "  array([[-43.320961  ,  30.11767578,  30.11767578, -43.320961  ,\n",
       "          -43.320961  ,  30.11767578,  30.11767578, -43.320961  ],\n",
       "         [ -4.13843918,  -4.13843918,   8.54088306,   8.54088306,\n",
       "           -4.13843918,  -4.13843918,   8.54088306,   8.54088306],\n",
       "         [ -1.25616598,  -1.25616598,  -1.25616598,  -1.25616598,\n",
       "            0.2676414 ,   0.2676414 ,   0.2676414 ,   0.2676414 ]]),\n",
       "  array([[-9.82113075, 46.0017662 , 46.0017662 , -9.82113075, -9.82113075,\n",
       "          46.0017662 , 46.0017662 , -9.82113075],\n",
       "         [-4.28341532, -4.28341532,  8.03794861,  8.03794861, -4.28341532,\n",
       "          -4.28341532,  8.03794861,  8.03794861],\n",
       "         [-1.15132356, -1.15132356, -1.15132356, -1.15132356, -0.12256765,\n",
       "          -0.12256765, -0.12256765, -0.12256765]]),\n",
       "  array([[-4.30987015e+01,  9.25574780e+00,  9.25574780e+00,\n",
       "          -4.30987015e+01, -4.30987015e+01,  9.25574780e+00,\n",
       "           9.25574780e+00, -4.30987015e+01],\n",
       "         [-3.95688438e+00, -3.95688438e+00,  8.28234768e+00,\n",
       "           8.28234768e+00, -3.95688438e+00, -3.95688438e+00,\n",
       "           8.28234768e+00,  8.28234768e+00],\n",
       "         [-1.95264935e+00, -1.95264935e+00, -1.95264935e+00,\n",
       "          -1.95264935e+00,  1.53729739e-02,  1.53729739e-02,\n",
       "           1.53729739e-02,  1.53729739e-02]]),\n",
       "  array([[-43.2675705 ,  26.57287407,  26.57287407, -43.2675705 ,\n",
       "          -43.2675705 ,  26.57287407,  26.57287407, -43.2675705 ],\n",
       "         [ -4.19042063,  -4.19042063,  10.85784531,  10.85784531,\n",
       "           -4.19042063,  -4.19042063,  10.85784531,  10.85784531],\n",
       "         [ -1.26437259,  -1.26437259,  -1.26437259,  -1.26437259,\n",
       "           -0.3575702 ,  -0.3575702 ,  -0.3575702 ,  -0.3575702 ]]),\n",
       "  array([[-43.27105713,  44.74995422,  44.74995422, -43.27105713,\n",
       "          -43.27105713,  44.74995422,  44.74995422, -43.27105713],\n",
       "         [ -4.16245031,  -4.16245031,   8.10094166,   8.10094166,\n",
       "           -4.16245031,  -4.16245031,   8.10094166,   8.10094166],\n",
       "         [ -1.26342535,  -1.26342535,  -1.26342535,  -1.26342535,\n",
       "            0.26777026,   0.26777026,   0.26777026,   0.26777026]])],\n",
       " {'roi_time': 6.252,\n",
       "  'filter_obstacle_time': 402.373,\n",
       "  'voxel_grid_time': 4.934,\n",
       "  'clustering_time': 93.412,\n",
       "  'outlier_filter_bbox_time': 29.795})"
      ]
     },
     "execution_count": 24,
     "metadata": {},
     "output_type": "execute_result"
    }
   ],
   "source": [
    "box_coord_list, time"
   ]
  },
  {
   "cell_type": "code",
   "execution_count": 35,
   "metadata": {
    "scrolled": true
   },
   "outputs": [
    {
     "data": {
      "image/png": "[encoded data removed]",
      "text/plain": [
       "<Figure size 720x432 with 1 Axes>"
      ]
     },
     "metadata": {
      "needs_background": "light"
     },
     "output_type": "display_data"
    }
   ],
   "source": [
    "from scripts import draw\n",
    "\n",
    "%matplotlib inline\n",
    "f = plt.figure(figsize=(10, 6))\n",
    "axes = [1,0]\n",
    "# ax = f.add_subplot(111, projection='3d') \n",
    "ax = f.add_subplot(111) \n",
    "draw.draw_point_cloud(scan, ax, 'Point Cloud',axes=axes, \n",
    "                      axes_str = ['X', 'Y', 'Z'], )\n",
    "for box in box_coord_list:\n",
    "     draw.draw_box(ax, box, axes=axes, color='m')"
   ]
  },
  {
   "cell_type": "code",
   "execution_count": 132,
   "metadata": {},
   "outputs": [
    {
     "data": {
      "text/plain": [
       "2559"
      ]
     },
     "execution_count": 132,
     "metadata": {},
     "output_type": "execute_result"
    }
   ],
   "source": [
    "np.array(pcloud_pcl, dtype=np.float32).size"
   ]
  },
  {
   "cell_type": "code",
   "execution_count": 22,
   "metadata": {
    "collapsed": true
   },
   "outputs": [
    {
     "data": {
      "application/vnd.jupyter.widget-view+json": {
       "model_id": "716454c4675b4e54b7403fcb8e1b7f66",
       "version_major": 2,
       "version_minor": 0
      },
      "text/plain": [
       "Renderer(camera=PerspectiveCamera(aspect=1.6, fov=90.0, position=(14.612958908081055, 12.31294846534729, -0.52…"
      ]
     },
     "metadata": {},
     "output_type": "display_data"
    },
    {
     "data": {
      "application/vnd.jupyter.widget-view+json": {
       "model_id": "fd880c12e0444155814f16d0555f3765",
       "version_major": 2,
       "version_minor": 0
      },
      "text/plain": [
       "HBox(children=(Label(value='Point size:'), FloatSlider(value=4.927323532104492, max=49.27323532104492, step=0.…"
      ]
     },
     "metadata": {},
     "output_type": "display_data"
    }
   ],
   "source": [
    "import pandas as pd\n",
    "scan1 = scan[:,:3]\n",
    "test_cloud = pyntcloud.PyntCloud(pd.DataFrame(np.array(pcloud_pcl, dtype=np.float32), columns=['x','y','z']))\n",
    "test_cloud.plot(backend='pythreejs', use_as_color='seg_id')"
   ]
  }
 ],
 "metadata": {
  "kernelspec": {
   "display_name": "Python 3",
   "language": "python",
   "name": "python3"
  },
  "language_info": {
   "codemirror_mode": {
    "name": "ipython",
    "version": 3
   },
   "file_extension": ".py",
   "mimetype": "text/x-python",
   "name": "python",
   "nbconvert_exporter": "python",
   "pygments_lexer": "ipython3",
   "version": "3.7.6"
  }
 },
 "nbformat": 4,
 "nbformat_minor": 4
}
