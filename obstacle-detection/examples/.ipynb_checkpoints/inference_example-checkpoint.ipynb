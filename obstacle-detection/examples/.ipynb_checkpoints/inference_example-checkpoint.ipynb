{
 "cells": [
  {
   "cell_type": "code",
   "execution_count": 1,
   "metadata": {},
   "outputs": [
    {
     "data": {
      "text/plain": [
       "'/home/jovyan/work/obstacle-detection/examples'"
      ]
     },
     "execution_count": 1,
     "metadata": {},
     "output_type": "execute_result"
    }
   ],
   "source": [
    "%pwd"
   ]
  },
  {
   "cell_type": "code",
   "execution_count": 2,
   "metadata": {},
   "outputs": [
    {
     "name": "stdout",
     "output_type": "stream",
     "text": [
      "/home/jovyan/work/obstacle-detection\n"
     ]
    }
   ],
   "source": [
    "%cd .."
   ]
  },
  {
   "cell_type": "code",
   "execution_count": 3,
   "metadata": {},
   "outputs": [
    {
     "name": "stdout",
     "output_type": "stream",
     "text": [
      "----------\n",
      "INTERFACE:\n",
      "dataset dataset\n",
      "model squeezeseg\n",
      "----------\n",
      "\n",
      "Opening arch config file from squeezeseg\n",
      "Opening data config file from squeezeseg\n",
      "model folder exists! Using model from squeezeseg\n",
      "parser started\n",
      "Using SqueezeNet Backbone\n",
      "Depth of backbone input =  5\n",
      "Original OS:  16\n",
      "New OS:  16\n",
      "Strides:  [2, 2, 2, 2]\n",
      "Decoder original OS:  16\n",
      "Decoder new OS:  16\n",
      "Decoder strides:  [2, 2, 2, 2]\n",
      "Total number of parameters:  915540\n",
      "Total number of parameters requires_grad:  915540\n",
      "Param encoder  724032\n",
      "Param decoder  179968\n",
      "Param head  11540\n",
      "Successfully loaded model backbone weights\n",
      "Successfully loaded model decoder weights\n",
      "Successfully loaded model head weights\n",
      "Infering in device:  cpu\n"
     ]
    }
   ],
   "source": [
    "import sys\n",
    "sys.path.append(\"..\")\n",
    "from model.tasks.semantic.infer2 import get_user \n",
    "#user = get_user(\"dataset\", \"darknet21\")\n",
    "user = get_user(\"dataset\", \"squeezeseg\")"
   ]
  },
  {
   "cell_type": "code",
   "execution_count": 9,
   "metadata": {
    "scrolled": true
   },
   "outputs": [
    {
     "name": "stdout",
     "output_type": "stream",
     "text": [
      "proj_x shape =  torch.Size([1, 150000])\n",
      "proj_y shape =  torch.Size([1, 150000])\n",
      "torch.Size([1, 5, 64, 2048])\n",
      "torch.Size([1, 64, 2048])\n",
      "Infered scan  dataset/sequences/06/velodyne/000001.bin in 0.6181917190551758 sec\n",
      "proj_x shape =  torch.Size([1, 150000])\n",
      "proj_y shape =  torch.Size([1, 150000])\n",
      "torch.Size([1, 5, 64, 2048])\n",
      "torch.Size([1, 64, 2048])\n",
      "Infered scan  dataset/sequences/06/velodyne/000001.bin in 0.5907962322235107 sec\n",
      "proj_x shape =  torch.Size([1, 150000])\n",
      "proj_y shape =  torch.Size([1, 150000])\n",
      "torch.Size([1, 5, 64, 2048])\n",
      "torch.Size([1, 64, 2048])\n",
      "Infered scan  dataset/sequences/06/velodyne/000001.bin in 0.6699767112731934 sec\n",
      "proj_x shape =  torch.Size([1, 150000])\n",
      "proj_y shape =  torch.Size([1, 150000])\n",
      "torch.Size([1, 5, 64, 2048])\n",
      "torch.Size([1, 64, 2048])\n",
      "Infered scan  dataset/sequences/06/velodyne/000001.bin in 0.5981595516204834 sec\n",
      "proj_x shape =  torch.Size([1, 150000])\n",
      "proj_y shape =  torch.Size([1, 150000])\n",
      "torch.Size([1, 5, 64, 2048])\n",
      "torch.Size([1, 64, 2048])\n",
      "Infered scan  dataset/sequences/06/velodyne/000001.bin in 0.5929136276245117 sec\n",
      "proj_x shape =  torch.Size([1, 150000])\n",
      "proj_y shape =  torch.Size([1, 150000])\n",
      "torch.Size([1, 5, 64, 2048])\n",
      "torch.Size([1, 64, 2048])\n",
      "Infered scan  dataset/sequences/06/velodyne/000001.bin in 0.7635753154754639 sec\n",
      "proj_x shape =  torch.Size([1, 150000])\n",
      "proj_y shape =  torch.Size([1, 150000])\n",
      "torch.Size([1, 5, 64, 2048])\n",
      "torch.Size([1, 64, 2048])\n",
      "Infered scan  dataset/sequences/06/velodyne/000001.bin in 0.6332042217254639 sec\n",
      "proj_x shape =  torch.Size([1, 150000])\n",
      "proj_y shape =  torch.Size([1, 150000])\n",
      "torch.Size([1, 5, 64, 2048])\n",
      "torch.Size([1, 64, 2048])\n",
      "Infered scan  dataset/sequences/06/velodyne/000001.bin in 0.6068110466003418 sec\n",
      "679 ms ± 58.6 ms per loop (mean ± std. dev. of 7 runs, 1 loop each)\n"
     ]
    }
   ],
   "source": [
    "%timeit predicted_labels = user.infer('dataset/sequences/06/velodyne/000001.bin')"
   ]
  },
  {
   "cell_type": "code",
   "execution_count": 5,
   "metadata": {},
   "outputs": [
    {
     "name": "stdout",
     "output_type": "stream",
     "text": [
      "proj_x shape =  torch.Size([1, 150000])\n",
      "proj_y shape =  torch.Size([1, 150000])\n",
      "torch.Size([1, 5, 64, 2048])\n",
      "torch.Size([1, 64, 2048])\n",
      "Infered scan  dataset/sequences/06/velodyne/000003.bin in 0.6274764537811279 sec\n"
     ]
    }
   ],
   "source": [
    "predicted_labels = user.infer('dataset/sequences/06/velodyne/000003.bin')"
   ]
  },
  {
   "cell_type": "code",
   "execution_count": 6,
   "metadata": {},
   "outputs": [
    {
     "data": {
      "text/plain": [
       "(123083,)"
      ]
     },
     "execution_count": 6,
     "metadata": {},
     "output_type": "execute_result"
    }
   ],
   "source": [
    "predicted_labels.shape"
   ]
  },
  {
   "cell_type": "code",
   "execution_count": 7,
   "metadata": {},
   "outputs": [
    {
     "data": {
      "text/plain": [
       "array([13, 16, 19, ...,  9,  9,  9])"
      ]
     },
     "execution_count": 7,
     "metadata": {},
     "output_type": "execute_result"
    }
   ],
   "source": [
    "predicted_labels"
   ]
  },
  {
   "cell_type": "code",
   "execution_count": null,
   "metadata": {},
   "outputs": [],
   "source": []
  }
 ],
 "metadata": {
  "kernelspec": {
   "display_name": "Python 3",
   "language": "python",
   "name": "python3"
  },
  "language_info": {
   "codemirror_mode": {
    "name": "ipython",
    "version": 3
   },
   "file_extension": ".py",
   "mimetype": "text/x-python",
   "name": "python",
   "nbconvert_exporter": "python",
   "pygments_lexer": "ipython3",
   "version": "3.7.6"
  }
 },
 "nbformat": 4,
 "nbformat_minor": 4
}
