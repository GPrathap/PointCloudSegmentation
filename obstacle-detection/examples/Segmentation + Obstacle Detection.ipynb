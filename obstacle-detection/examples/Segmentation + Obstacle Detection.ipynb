{
 "cells": [
  {
   "cell_type": "code",
   "execution_count": null,
   "metadata": {},
   "outputs": [],
   "source": [
    "# !pip install pyobb"
   ]
  },
  {
   "cell_type": "code",
   "execution_count": 1,
   "metadata": {},
   "outputs": [],
   "source": [
    "import os\n",
    "import sys\n",
    "import yaml\n",
    "import copy\n",
    "import warnings\n",
    "import importlib as imp\n",
    "from datetime import datetime\n",
    "warnings.simplefilter('ignore')\n",
    "\n",
    "import numpy as np\n",
    "import pandas as pd\n",
    "import matplotlib.pyplot as plt\n",
    "\n",
    "\n",
    "# import pcl\n",
    "import pyntcloud\n",
    "\n",
    "sys.path.append('/home/jovyan/work/obstacle-detection/')\n",
    "# sys.path.append('/home/jovyan/work/boxes_vis/git/obstacle-detection/')"
   ]
  },
  {
   "cell_type": "code",
   "execution_count": 2,
   "metadata": {},
   "outputs": [],
   "source": [
    "with open('../config.yaml') as file:\n",
    "    config = yaml.load(file, Loader=yaml.FullLoader)"
   ]
  },
  {
   "cell_type": "code",
   "execution_count": 3,
   "metadata": {},
   "outputs": [],
   "source": [
    "obstacle_dct = config['obstacles']\n",
    "leaning_map_obstacles = config['learning_map']\n",
    "mapped_obstacles_lst = list(set([leaning_map_obstacles[id] for id in obstacle_dct.keys()]))"
   ]
  },
  {
   "cell_type": "code",
   "execution_count": 4,
   "metadata": {},
   "outputs": [],
   "source": [
    "import sys\n",
    "sys.path.append(\"..\")\n",
    "\n",
    "import model\n",
    "# get_user = imp.reload(model)\n",
    "from model.tasks.semantic import infer2\n",
    "# infer2 = imp.reload(infer2)"
   ]
  },
  {
   "cell_type": "code",
   "execution_count": 5,
   "metadata": {},
   "outputs": [
    {
     "name": "stdout",
     "output_type": "stream",
     "text": [
      "----------\n",
      "INTERFACE:\n",
      "model squeezeseg\n",
      "----------\n",
      "\n",
      "Opening arch config file from squeezeseg\n",
      "Opening data config file from squeezeseg\n",
      "model folder exists! Using model from squeezeseg\n",
      "parser started\n",
      "Using SqueezeNet Backbone\n",
      "Depth of backbone input =  5\n",
      "Original OS:  16\n",
      "New OS:  16\n",
      "Strides:  [2, 2, 2, 2]\n",
      "Decoder original OS:  16\n",
      "Decoder new OS:  16\n",
      "Decoder strides:  [2, 2, 2, 2]\n",
      "Total number of parameters:  915540\n",
      "Total number of parameters requires_grad:  915540\n",
      "Param encoder  724032\n",
      "Param decoder  179968\n",
      "Param head  11540\n",
      "Successfully loaded model backbone weights\n",
      "Successfully loaded model decoder weights\n",
      "Successfully loaded model head weights\n",
      "Infering in device:  cpu\n"
     ]
    }
   ],
   "source": [
    "# %cd ..\n",
    "user = infer2.get_user( \"squeezeseg\")"
   ]
  },
  {
   "cell_type": "code",
   "execution_count": 6,
   "metadata": {},
   "outputs": [
    {
     "name": "stdout",
     "output_type": "stream",
     "text": [
      "CPU times: user 47.9 ms, sys: 14.6 ms, total: 62.5 ms\n",
      "Wall time: 20.3 ms\n"
     ]
    }
   ],
   "source": [
    "%%time \n",
    "num = '066'\n",
    "bin_path = '../dataset/sequences/00/velodyne/000' + num + '.bin'\n",
    "scan = np.fromfile(bin_path, dtype=np.float32)\n",
    "scan = scan.reshape((-1, 4))"
   ]
  },
  {
   "cell_type": "code",
   "execution_count": 7,
   "metadata": {},
   "outputs": [],
   "source": [
    "from pipeline import pipeline\n",
    "from pipeline import common\n",
    "pipeline = imp.reload(pipeline)"
   ]
  },
  {
   "cell_type": "code",
   "execution_count": 8,
   "metadata": {},
   "outputs": [
    {
     "name": "stdout",
     "output_type": "stream",
     "text": [
      "Input pcloud size: 121199\n",
      "Output ROI pcloud size: 61527\n"
     ]
    }
   ],
   "source": [
    "\n",
    "scan = common.roi_filter(pd.DataFrame(scan, columns=['x', 'y', 'z', 'remission']),\n",
    "                                              min_x = 0, max_x =  45,\n",
    "                                              min_y =  -14, max_y =  14,\n",
    "                                              min_z =  -2, max_z =  1)[['x', 'y', 'z', 'remission']].values\n"
   ]
  },
  {
   "cell_type": "code",
   "execution_count": 9,
   "metadata": {},
   "outputs": [
    {
     "name": "stdout",
     "output_type": "stream",
     "text": [
      "Segmentation time: 0.256026\n",
      "Execution time:\n",
      "\n",
      " - ROI filtering: 0.00970s\n",
      "\n",
      " - Filtering obstacles: 0.00292s\n",
      "\n",
      " - Voxel grid: 0.00000s\n",
      "\n",
      " - Clustering: 0.41920s\n",
      "\n",
      " - Min-max cluster points: 0.16970s \n",
      "\n",
      "CPU times: user 1.75 s, sys: 221 ms, total: 1.97 s\n",
      "Wall time: 858 ms\n"
     ]
    }
   ],
   "source": [
    "\n",
    "%%time\n",
    "params = {'roi_x_min': 0, 'roi_x_max': 45,\n",
    "          'roi_y_min': -14, 'roi_y_max': 14,\n",
    "          'roi_z_min': -2, 'roi_z_max': 1,\n",
    "          'eps': 0.65, 'min_samples': 6, 'leaf_size': 120, \n",
    "          'proc_labels': False}  \n",
    "start_time = datetime.now()\n",
    "label = user.infer(scan)\n",
    "print('Segmentation time: {}'.format((datetime.now() - start_time).total_seconds()))\n",
    "clusters, cluster_data, time_exec = pipeline.pipeline(scan[:, :3], label, mapped_obstacles_lst, verbose=True, \n",
    "                                    exec_time=True, **params)"
   ]
  },
  {
   "cell_type": "code",
   "execution_count": 76,
   "metadata": {},
   "outputs": [
    {
     "data": {
      "application/vnd.jupyter.widget-view+json": {
       "model_id": "5d500dd2ec4f4777897fe267049f1293",
       "version_major": 2,
       "version_minor": 0
      },
      "text/plain": [
       "Renderer(camera=PerspectiveCamera(aspect=1.6, fov=90.0, position=(7.246531131896764, 16.887283441998246, 0.654…"
      ]
     },
     "metadata": {},
     "output_type": "display_data"
    },
    {
     "data": {
      "application/vnd.jupyter.widget-view+json": {
       "model_id": "b08d620131c34904af1e38265f55175f",
       "version_major": 2,
       "version_minor": 0
      },
      "text/plain": [
       "HBox(children=(Label(value='Point size:'), FloatSlider(value=5.473630714416504, max=54.73630714416504, step=0.…"
      ]
     },
     "metadata": {},
     "output_type": "display_data"
    }
   ],
   "source": [
    "import pyntcloud\n",
    "test_cloud = pyntcloud.PyntCloud(cluster_data)\n",
    "test_cloud.plot(use_as_color='cluster_id', cmap=\"cool\")"
   ]
  },
  {
   "cell_type": "markdown",
   "metadata": {},
   "source": [
    "![lol](img/seg_od_clustering.png)"
   ]
  },
  {
   "cell_type": "code",
   "execution_count": 50,
   "metadata": {},
   "outputs": [],
   "source": [
    "np.savetxt('examples/000066.bbox', clusters)"
   ]
  },
  {
   "cell_type": "markdown",
   "metadata": {},
   "source": [
    "![lol](img/seg_od_clustering_bbox_000066.png)"
   ]
  },
  {
   "cell_type": "markdown",
   "metadata": {},
   "source": [
    "### Sequence: bboxes and stats getting"
   ]
  },
  {
   "cell_type": "code",
   "execution_count": 10,
   "metadata": {},
   "outputs": [
    {
     "name": "stdout",
     "output_type": "stream",
     "text": [
      "READ OK, number of scans  459\n"
     ]
    }
   ],
   "source": [
    "import glob\n",
    "seq = '00'\n",
    "scan_lst = sorted(glob.glob(\"../dataset/sequences/\" + seq + \"/velodyne/*.bin\"))\n",
    "labels_lst = sorted(glob.glob(\"../dataset/sequences/\" + seq + \"/labels/*.label\"))\n",
    "assert len(scan_lst) == len(labels_lst)\n",
    "print('READ OK, number of scans ', len(scan_lst))"
   ]
  },
  {
   "cell_type": "code",
   "execution_count": 11,
   "metadata": {},
   "outputs": [],
   "source": [
    "from scripts import test\n",
    "test = imp.reload(test)"
   ]
  },
  {
   "cell_type": "code",
   "execution_count": null,
   "metadata": {},
   "outputs": [
    {
     "data": {
      "application/vnd.jupyter.widget-view+json": {
       "model_id": "db0f28727cd44d3ab5662840ab31a094",
       "version_major": 2,
       "version_minor": 0
      },
      "text/plain": [
       "HBox(children=(FloatProgress(value=0.0, description='Scan processed', max=459.0, style=ProgressStyle(descripti…"
      ]
     },
     "metadata": {},
     "output_type": "display_data"
    }
   ],
   "source": [
    "%%time\n",
    "# n_scan = -1\n",
    "write_path = '../dataset/sequences/' + seq + '/clusters/'\n",
    "# write_path = None\n",
    "bbox_dct, exec_time_dct, stats = test.get_bbox_and_stat(scan_lst, labels_lst, mapped_obstacles_lst,\n",
    "                                                        pipeline.pipeline, write_path=write_path, seg_model=user,\n",
    "                                                        OBB=False, detailed=True, **params)"
   ]
  },
  {
   "cell_type": "code",
   "execution_count": null,
   "metadata": {},
   "outputs": [],
   "source": [
    "steps = list(stats[0].keys())\n",
    "steps_exec_time = []\n",
    "for step in steps:\n",
    "    steps_exec_time.append([stat[step] for stat in stats])"
   ]
  },
  {
   "cell_type": "code",
   "execution_count": null,
   "metadata": {},
   "outputs": [],
   "source": [
    "plt.figure(figsize=(14,5))\n",
    "for i, step in enumerate(steps):\n",
    "    plt.plot(steps_exec_time[i], label=step)\n",
    "plt.legend(loc='best')\n",
    "plt.xlabel('Scan')\n",
    "plt.ylabel('Time, seconds')\n",
    "plt.grid()\n",
    "plt.show()"
   ]
  },
  {
   "cell_type": "code",
   "execution_count": null,
   "metadata": {},
   "outputs": [],
   "source": [
    "time_stat = list(exec_time_dct.values())\n",
    "print('Min process time {} s'.format(min(time_stat)))\n",
    "print('Mean process time {} s'.format(np.mean(time_stat)))\n",
    "print('Max process time {} s'.format(max(time_stat)))"
   ]
  },
  {
   "cell_type": "code",
   "execution_count": null,
   "metadata": {},
   "outputs": [],
   "source": [
    "ox = [int(x) for x in list(exec_time_dct.keys())]\n",
    "oy = time_stat"
   ]
  },
  {
   "cell_type": "code",
   "execution_count": null,
   "metadata": {},
   "outputs": [],
   "source": [
    "plt.figure(figsize=(16, 5))\n",
    "plt.plot(ox, oy)\n",
    "plt.xlabel('Scan')\n",
    "plt.ylabel('Time, seconds')\n",
    "plt.grid()\n",
    "plt.xticks(rotation=45)\n",
    "plt.show()"
   ]
  },
  {
   "cell_type": "code",
   "execution_count": null,
   "metadata": {},
   "outputs": [],
   "source": []
  }
 ],
 "metadata": {
  "kernelspec": {
   "display_name": "Python 3",
   "language": "python",
   "name": "python3"
  },
  "language_info": {
   "codemirror_mode": {
    "name": "ipython",
    "version": 3
   },
   "file_extension": ".py",
   "mimetype": "text/x-python",
   "name": "python",
   "nbconvert_exporter": "python",
   "pygments_lexer": "ipython3",
   "version": "3.7.6"
  }
 },
 "nbformat": 4,
 "nbformat_minor": 4
}
