{
 "cells": [
  {
   "cell_type": "code",
   "execution_count": null,
   "metadata": {},
   "outputs": [],
   "source": [
    "# !pip install pyobb"
   ]
  },
  {
   "cell_type": "code",
   "execution_count": 25,
   "metadata": {},
   "outputs": [],
   "source": [
    "import os\n",
    "import sys\n",
    "import yaml\n",
    "import copy\n",
    "import warnings\n",
    "import importlib as imp\n",
    "from datetime import datetime\n",
    "warnings.simplefilter('ignore')\n",
    "\n",
    "import numpy as np\n",
    "import pandas as pd\n",
    "import matplotlib.pyplot as plt\n",
    "\n",
    "\n",
    "# import pcl\n",
    "import pyntcloud\n",
    "\n",
    "sys.path.append('/home/jovyan/work/obstacle-detection/')\n",
    "# sys.path.append('/home/jovyan/work/boxes_vis/git/obstacle-detection/')"
   ]
  },
  {
   "cell_type": "code",
   "execution_count": 2,
   "metadata": {},
   "outputs": [],
   "source": [
    "with open('../config.yaml') as file:\n",
    "    config = yaml.load(file, Loader=yaml.FullLoader)"
   ]
  },
  {
   "cell_type": "code",
   "execution_count": 3,
   "metadata": {},
   "outputs": [],
   "source": [
    "obstacle_dct = config['obstacles']\n",
    "leaning_map_obstacles = config['learning_map']\n",
    "mapped_obstacles_lst = list(set([leaning_map_obstacles[id] for id in obstacle_dct.keys()]))"
   ]
  },
  {
   "cell_type": "code",
   "execution_count": 4,
   "metadata": {},
   "outputs": [],
   "source": [
    "import sys\n",
    "sys.path.append(\"..\")\n",
    "from model.tasks.semantic.infer2 import get_user "
   ]
  },
  {
   "cell_type": "code",
   "execution_count": 5,
   "metadata": {},
   "outputs": [
    {
     "name": "stdout",
     "output_type": "stream",
     "text": [
      "/home/jovyan/work/obstacle-detection\n",
      "----------\n",
      "INTERFACE:\n",
      "model squeezeseg\n",
      "----------\n",
      "\n",
      "Opening arch config file from squeezeseg\n",
      "Opening data config file from squeezeseg\n",
      "model folder exists! Using model from squeezeseg\n",
      "parser started\n",
      "Using SqueezeNet Backbone\n",
      "Depth of backbone input =  5\n",
      "Original OS:  16\n",
      "New OS:  16\n",
      "Strides:  [2, 2, 2, 2]\n",
      "Decoder original OS:  16\n",
      "Decoder new OS:  16\n",
      "Decoder strides:  [2, 2, 2, 2]\n",
      "Total number of parameters:  915540\n",
      "Total number of parameters requires_grad:  915540\n",
      "Param encoder  724032\n",
      "Param decoder  179968\n",
      "Param head  11540\n",
      "Successfully loaded model backbone weights\n",
      "Successfully loaded model decoder weights\n",
      "Successfully loaded model head weights\n",
      "Infering in device:  cpu\n"
     ]
    }
   ],
   "source": [
    "%cd ..\n",
    "user = get_user( \"squeezeseg\")"
   ]
  },
  {
   "cell_type": "code",
   "execution_count": 56,
   "metadata": {},
   "outputs": [
    {
     "name": "stdout",
     "output_type": "stream",
     "text": [
      "CPU times: user 1.48 ms, sys: 6.58 ms, total: 8.06 ms\n",
      "Wall time: 20.3 ms\n"
     ]
    }
   ],
   "source": [
    "%%time \n",
    "num = '066'\n",
    "bin_path = 'dataset/sequences/00/velodyne/000' + num + '.bin'\n",
    "scan = np.fromfile(bin_path, dtype=np.float32)\n",
    "scan = scan.reshape((-1, 4))[:, :3]"
   ]
  },
  {
   "cell_type": "code",
   "execution_count": 57,
   "metadata": {},
   "outputs": [],
   "source": [
    "from pipeline import pipeline\n",
    "from pipeline import common\n",
    "pipeline = imp.reload(pipeline)"
   ]
  },
  {
   "cell_type": "code",
   "execution_count": 58,
   "metadata": {},
   "outputs": [
    {
     "name": "stdout",
     "output_type": "stream",
     "text": [
      "Infered scan  dataset/sequences/00/velodyne/000066.bin in 0.7214879989624023 sec\n",
      "Segmentation time: 0.800246\n",
      "Execution time:\n",
      "\n",
      " - ROI filtering: 0.01097s\n",
      "\n",
      " - Filtering obstacles: 0.00239s\n",
      "\n",
      " - Voxel grid: 0.00000s\n",
      "\n",
      " - Clustering: 0.28638s\n",
      "\n",
      " - Min-max cluster points: 0.24257s \n",
      "\n",
      "CPU times: user 3.74 s, sys: 280 ms, total: 4.02 s\n",
      "Wall time: 1.34 s\n"
     ]
    }
   ],
   "source": [
    "\n",
    "%%time\n",
    "params = {'roi_x_min': 0, 'roi_x_max': 45,\n",
    "          'roi_y_min': -14, 'roi_y_max': 14,\n",
    "          'roi_z_min': -2, 'roi_z_max': 1,\n",
    "          'eps': 0.65, 'min_samples': 6, 'leaf_size': 120, \n",
    "          'proc_labels': False}  \n",
    "start_time = datetime.now()\n",
    "label = user.infer(bin_path)\n",
    "print('Segmentation time: {}'.format((datetime.now() - start_time).total_seconds()))\n",
    "clusters, cluster_data, time_exec = pipeline.pipeline(scan, label, mapped_obstacles_lst, verbose=True, \n",
    "                                    exec_time=True, **params)"
   ]
  },
  {
   "cell_type": "code",
   "execution_count": null,
   "metadata": {},
   "outputs": [],
   "source": [
    "import pyntcloud\n",
    "test_cloud = pyntcloud.PyntCloud(cluster_data)\n",
    "test_cloud.plot(use_as_color='cluster_id', cmap=\"cool\")"
   ]
  },
  {
   "cell_type": "markdown",
   "metadata": {},
   "source": [
    "![lol](img/seg_od_clustering.png)"
   ]
  },
  {
   "cell_type": "code",
   "execution_count": 50,
   "metadata": {},
   "outputs": [],
   "source": [
    "np.savetxt('examples/000066.bbox', clusters)"
   ]
  },
  {
   "cell_type": "markdown",
   "metadata": {},
   "source": [
    "![lol](img/seg_od_clustering_bbox_000066.png)"
   ]
  },
  {
   "cell_type": "code",
   "execution_count": null,
   "metadata": {},
   "outputs": [],
   "source": []
  }
 ],
 "metadata": {
  "kernelspec": {
   "display_name": "Python 3",
   "language": "python",
   "name": "python3"
  },
  "language_info": {
   "codemirror_mode": {
    "name": "ipython",
    "version": 3
   },
   "file_extension": ".py",
   "mimetype": "text/x-python",
   "name": "python",
   "nbconvert_exporter": "python",
   "pygments_lexer": "ipython3",
   "version": "3.7.6"
  }
 },
 "nbformat": 4,
 "nbformat_minor": 4
}
